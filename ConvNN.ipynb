{
 "cells": [
  {
   "cell_type": "code",
   "execution_count": 5,
   "id": "65b2ceae",
   "metadata": {},
   "outputs": [],
   "source": [
    "import tensorflow as tf\n",
    "from tensorflow.keras.models import Sequential\n",
    "from tensorflow.keras.layers import Dense, Dropout, Activation, Flatten, Conv2D, MaxPooling2D\n",
    "import numpy as np"
   ]
  },
  {
   "cell_type": "code",
   "execution_count": 2,
   "id": "ce97e2eb",
   "metadata": {},
   "outputs": [],
   "source": [
    "# Cats and dogs images from LoadData\n",
    "X = np.load('features.npy')\n",
    "y = np.load('labels.npy')\n",
    "\n",
    "#Normalize\n",
    "X = X/255.0"
   ]
  },
  {
   "cell_type": "code",
   "execution_count": 27,
   "id": "8b5dad46",
   "metadata": {},
   "outputs": [
    {
     "name": "stdout",
     "output_type": "stream",
     "text": [
      "Epoch 1/3\n",
      "702/702 [==============================] - 114s 163ms/step - loss: 26.8719 - accuracy: 0.5012 - val_loss: 0.6862 - val_accuracy: 0.4934\n",
      "Epoch 2/3\n",
      "702/702 [==============================] - 117s 167ms/step - loss: 0.6840 - accuracy: 0.5029 - val_loss: 0.6798 - val_accuracy: 0.4934\n",
      "Epoch 3/3\n",
      "702/702 [==============================] - 116s 166ms/step - loss: 0.6805 - accuracy: 0.4979 - val_loss: 0.6954 - val_accuracy: 0.4934\n"
     ]
    },
    {
     "data": {
      "text/plain": [
       "<tensorflow.python.keras.callbacks.History at 0x19ce4a250>"
      ]
     },
     "execution_count": 27,
     "metadata": {},
     "output_type": "execute_result"
    }
   ],
   "source": [
    "model = Sequential()\n",
    "\n",
    "model.add(Conv2D(64, (3,3), activation='relu', input_shape=X.shape[1:]))\n",
    "model.add(MaxPooling2D(pool_size=(2,2)))\n",
    "          \n",
    "model.add(Conv2D(64, (3,3), activation='relu'))\n",
    "model.add(MaxPooling2D(pool_size=(2,2)))\n",
    "          \n",
    "model.add(Flatten())\n",
    "model.add(Dense(64))\n",
    "          \n",
    "model.add(Dense(1, activation='softmax'))\n",
    "          \n",
    "model.compile(loss='binary_crossentropy',\n",
    "             optimizer='adam',\n",
    "             metrics= ['accuracy'])\n",
    "          \n",
    "model.fit(X, y, batch_size=32, validation_split=0.1, epochs=3)"
   ]
  }
 ],
 "metadata": {
  "kernelspec": {
   "display_name": "Python 3",
   "language": "python",
   "name": "python3"
  },
  "language_info": {
   "codemirror_mode": {
    "name": "ipython",
    "version": 3
   },
   "file_extension": ".py",
   "mimetype": "text/x-python",
   "name": "python",
   "nbconvert_exporter": "python",
   "pygments_lexer": "ipython3",
   "version": "3.9.1"
  }
 },
 "nbformat": 4,
 "nbformat_minor": 5
}
